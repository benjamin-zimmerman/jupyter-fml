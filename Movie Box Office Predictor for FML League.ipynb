{
 "cells": [
  {
   "cell_type": "code",
   "execution_count": 1,
   "metadata": {
    "collapsed": true
   },
   "outputs": [],
   "source": [
    "import pandas as pd"
   ]
  },
  {
   "cell_type": "code",
   "execution_count": 2,
   "metadata": {
    "collapsed": true
   },
   "outputs": [],
   "source": [
    "import pulp as opt"
   ]
  },
  {
   "cell_type": "code",
   "execution_count": 15,
   "metadata": {
    "collapsed": false
   },
   "outputs": [],
   "source": [
    "df = pd.read_csv('data_movies_week_9.csv', header = None)"
   ]
  },
  {
   "cell_type": "code",
   "execution_count": 16,
   "metadata": {
    "collapsed": false
   },
   "outputs": [
    {
     "data": {
      "text/html": [
       "<div>\n",
       "<table border=\"1\" class=\"dataframe\">\n",
       "  <thead>\n",
       "    <tr style=\"text-align: right;\">\n",
       "      <th></th>\n",
       "      <th>0</th>\n",
       "      <th>1</th>\n",
       "      <th>2</th>\n",
       "      <th>3</th>\n",
       "    </tr>\n",
       "  </thead>\n",
       "  <tbody>\n",
       "    <tr>\n",
       "      <th>0</th>\n",
       "      <td>1</td>\n",
       "      <td>Star Trek</td>\n",
       "      <td>6.100000e+07</td>\n",
       "      <td>720</td>\n",
       "    </tr>\n",
       "    <tr>\n",
       "      <th>1</th>\n",
       "      <td>2</td>\n",
       "      <td>Ice Age</td>\n",
       "      <td>3.300000e+07</td>\n",
       "      <td>459</td>\n",
       "    </tr>\n",
       "    <tr>\n",
       "      <th>2</th>\n",
       "      <td>3</td>\n",
       "      <td>Secret Life</td>\n",
       "      <td>2.550000e+07</td>\n",
       "      <td>334</td>\n",
       "    </tr>\n",
       "    <tr>\n",
       "      <th>3</th>\n",
       "      <td>4</td>\n",
       "      <td>Ghostbusters</td>\n",
       "      <td>2.075000e+07</td>\n",
       "      <td>285</td>\n",
       "    </tr>\n",
       "    <tr>\n",
       "      <th>4</th>\n",
       "      <td>5</td>\n",
       "      <td>Lights Out</td>\n",
       "      <td>1.700000e+07</td>\n",
       "      <td>223</td>\n",
       "    </tr>\n",
       "    <tr>\n",
       "      <th>5</th>\n",
       "      <td>6</td>\n",
       "      <td>Hillary's America</td>\n",
       "      <td>7.801226e+06</td>\n",
       "      <td>100</td>\n",
       "    </tr>\n",
       "    <tr>\n",
       "      <th>6</th>\n",
       "      <td>7</td>\n",
       "      <td>The Legend Of</td>\n",
       "      <td>6.300000e+06</td>\n",
       "      <td>78</td>\n",
       "    </tr>\n",
       "    <tr>\n",
       "      <th>7</th>\n",
       "      <td>8</td>\n",
       "      <td>Finding Dory</td>\n",
       "      <td>6.200000e+06</td>\n",
       "      <td>73</td>\n",
       "    </tr>\n",
       "    <tr>\n",
       "      <th>8</th>\n",
       "      <td>9</td>\n",
       "      <td>Mike and Dave</td>\n",
       "      <td>3.450000e+06</td>\n",
       "      <td>51</td>\n",
       "    </tr>\n",
       "    <tr>\n",
       "      <th>9</th>\n",
       "      <td>10</td>\n",
       "      <td>The Infiltrator</td>\n",
       "      <td>3.276515e+06</td>\n",
       "      <td>42</td>\n",
       "    </tr>\n",
       "    <tr>\n",
       "      <th>10</th>\n",
       "      <td>11</td>\n",
       "      <td>Central Intellience</td>\n",
       "      <td>3.225000e+06</td>\n",
       "      <td>41</td>\n",
       "    </tr>\n",
       "    <tr>\n",
       "      <th>11</th>\n",
       "      <td>12</td>\n",
       "      <td>The Purge</td>\n",
       "      <td>3.100000e+06</td>\n",
       "      <td>36</td>\n",
       "    </tr>\n",
       "    <tr>\n",
       "      <th>12</th>\n",
       "      <td>13</td>\n",
       "      <td>The BFG</td>\n",
       "      <td>1.794282e+06</td>\n",
       "      <td>23</td>\n",
       "    </tr>\n",
       "    <tr>\n",
       "      <th>13</th>\n",
       "      <td>14</td>\n",
       "      <td>The Shallows</td>\n",
       "      <td>1.716270e+06</td>\n",
       "      <td>22</td>\n",
       "    </tr>\n",
       "    <tr>\n",
       "      <th>14</th>\n",
       "      <td>15</td>\n",
       "      <td>AbsolutelyFa</td>\n",
       "      <td>1.404221e+06</td>\n",
       "      <td>18</td>\n",
       "    </tr>\n",
       "    <tr>\n",
       "      <th>15</th>\n",
       "      <td>16</td>\n",
       "      <td>Empty</td>\n",
       "      <td>-2.000000e+06</td>\n",
       "      <td>0</td>\n",
       "    </tr>\n",
       "  </tbody>\n",
       "</table>\n",
       "</div>"
      ],
      "text/plain": [
       "     0                    1             2    3\n",
       "0    1            Star Trek  6.100000e+07  720\n",
       "1    2              Ice Age  3.300000e+07  459\n",
       "2    3          Secret Life  2.550000e+07  334\n",
       "3    4         Ghostbusters  2.075000e+07  285\n",
       "4    5           Lights Out  1.700000e+07  223\n",
       "5    6    Hillary's America  7.801226e+06  100\n",
       "6    7        The Legend Of  6.300000e+06   78\n",
       "7    8         Finding Dory  6.200000e+06   73\n",
       "8    9        Mike and Dave  3.450000e+06   51\n",
       "9   10      The Infiltrator  3.276515e+06   42\n",
       "10  11  Central Intellience  3.225000e+06   41\n",
       "11  12            The Purge  3.100000e+06   36\n",
       "12  13              The BFG  1.794282e+06   23\n",
       "13  14         The Shallows  1.716270e+06   22\n",
       "14  15         AbsolutelyFa  1.404221e+06   18\n",
       "15  16                Empty -2.000000e+06    0"
      ]
     },
     "execution_count": 16,
     "metadata": {},
     "output_type": "execute_result"
    }
   ],
   "source": [
    "df"
   ]
  },
  {
   "cell_type": "markdown",
   "metadata": {
    "collapsed": true
   },
   "source": [
    "###### Declare variables"
   ]
  },
  {
   "cell_type": "code",
   "execution_count": 17,
   "metadata": {
    "collapsed": false
   },
   "outputs": [],
   "source": [
    "x1 = opt.LpVariable('x1',0,8, cat = 'Integer')\n",
    "x2 = opt.LpVariable('x2',0,8, cat = 'Integer')\n",
    "x3 = opt.LpVariable('x3',0,8, cat = 'Integer')\n",
    "x4 = opt.LpVariable('x4',0,8, cat = 'Integer')\n",
    "x5 = opt.LpVariable('x5',0,8, cat = 'Integer')\n",
    "x6 = opt.LpVariable('x6',0,8, cat = 'Integer')\n",
    "x7 = opt.LpVariable('x7',0,8, cat = 'Integer')\n",
    "x8 = opt.LpVariable('x8',0,8, cat = 'Integer')\n",
    "x9 = opt.LpVariable('x9',0,8, cat = 'Integer')\n",
    "x10 = opt.LpVariable('x10',0,8, cat = 'Integer')\n",
    "x11 = opt.LpVariable('x11',0,8, cat = 'Integer')\n",
    "x12 = opt.LpVariable('x12',0,8, cat = 'Integer')\n",
    "x13 = opt.LpVariable('x13',0,8, cat = 'Integer')\n",
    "x14 = opt.LpVariable('x14',0,8, cat = 'Integer')\n",
    "x15 = opt.LpVariable('x15',0,8, cat = 'Integer')\n",
    "x16 = opt.LpVariable('x16',0,8, cat = 'Integer')\n"
   ]
  },
  {
   "cell_type": "markdown",
   "metadata": {},
   "source": [
    "##### Declare objective"
   ]
  },
  {
   "cell_type": "code",
   "execution_count": 18,
   "metadata": {
    "collapsed": false
   },
   "outputs": [],
   "source": [
    "prob = opt.LpProblem('Optimize_FML_Success',opt.LpMaximize)"
   ]
  },
  {
   "cell_type": "code",
   "execution_count": 19,
   "metadata": {
    "collapsed": false
   },
   "outputs": [],
   "source": [
    "prob += df.ix[0,2]*x1 + df.ix[1,2]*x2 + df.ix[2,2]*x3 + df.ix[3,2]*x4 + df.ix[4,2]*x5 + df.ix[5,2]*x6 + df.ix[6,2]*x7 + df.ix[7,2]*x8 + df.ix[8,2]*x9 + df.ix[9,2]*x10 + df.ix[10,2]*x11 + df.ix[11,2]*x12 + df.ix[12,2]*x13 + df.ix[13,2]*x14 + df.ix[14,2]*x15 + df.ix[15,2]*x16"
   ]
  },
  {
   "cell_type": "code",
   "execution_count": 20,
   "metadata": {
    "collapsed": false
   },
   "outputs": [
    {
     "data": {
      "text/plain": [
       "Optimize_FML_Success:\n",
       "MAXIMIZE\n",
       "61000000.0*x1 + 3276514.912*x10 + 3225000.0*x11 + 3100000.0*x12 + 1794281.975*x13 + 1716269.716*x14 + 1404220.676*x15 + -2000000.0*x16 + 33000000.0*x2 + 25500000.0*x3 + 20750000.0*x4 + 17000000.0*x5 + 7801225.98*x6 + 6300000.0*x7 + 6200000.0*x8 + 3450000.0*x9 + 0.0\n",
       "VARIABLES\n",
       "0 <= x1 <= 8 Integer\n",
       "0 <= x10 <= 8 Integer\n",
       "0 <= x11 <= 8 Integer\n",
       "0 <= x12 <= 8 Integer\n",
       "0 <= x13 <= 8 Integer\n",
       "0 <= x14 <= 8 Integer\n",
       "0 <= x15 <= 8 Integer\n",
       "0 <= x16 <= 8 Integer\n",
       "0 <= x2 <= 8 Integer\n",
       "0 <= x3 <= 8 Integer\n",
       "0 <= x4 <= 8 Integer\n",
       "0 <= x5 <= 8 Integer\n",
       "0 <= x6 <= 8 Integer\n",
       "0 <= x7 <= 8 Integer\n",
       "0 <= x8 <= 8 Integer\n",
       "0 <= x9 <= 8 Integer"
      ]
     },
     "execution_count": 20,
     "metadata": {},
     "output_type": "execute_result"
    }
   ],
   "source": [
    "prob"
   ]
  },
  {
   "cell_type": "markdown",
   "metadata": {},
   "source": [
    "##### Declare constraints"
   ]
  },
  {
   "cell_type": "markdown",
   "metadata": {},
   "source": [
    "###### 1) We must fill 8 theaters"
   ]
  },
  {
   "cell_type": "code",
   "execution_count": 21,
   "metadata": {
    "collapsed": false
   },
   "outputs": [],
   "source": [
    "prob += x1+x2+x3+x4+x5+x6+x7+x8+x9+x10+x11+x12+x13+x14+x15+x16 <= 8"
   ]
  },
  {
   "cell_type": "code",
   "execution_count": 22,
   "metadata": {
    "collapsed": true
   },
   "outputs": [],
   "source": [
    "prob += x1+x2+x3+x4+x5+x6+x7+x8+x9+x10+x11+x12+x13+x14+x15+x16 >= 8"
   ]
  },
  {
   "cell_type": "markdown",
   "metadata": {},
   "source": [
    "###### 2) We must limit ourselves to 1000 FML bucks"
   ]
  },
  {
   "cell_type": "code",
   "execution_count": 23,
   "metadata": {
    "collapsed": false
   },
   "outputs": [],
   "source": [
    "prob += df.ix[0,3]*x1 + df.ix[1,3]*x2 + df.ix[2,3]*x3 + df.ix[3,3]*x4 + df.ix[4,3]*x5 + df.ix[5,3]*x6 + df.ix[6,3]*x7 + df.ix[7,3]*x8 + df.ix[8,3]*x9 + df.ix[9,3]*x10 + df.ix[10,3]*x11 + df.ix[11,3]*x12 + df.ix[12,3]*x13 + df.ix[13,3]*x14 + df.ix[14,3]*x15 + df.ix[15,3]*x16 <= 1000"
   ]
  },
  {
   "cell_type": "markdown",
   "metadata": {},
   "source": [
    "##### Solve the problem"
   ]
  },
  {
   "cell_type": "code",
   "execution_count": 24,
   "metadata": {
    "collapsed": false
   },
   "outputs": [
    {
     "name": "stdout",
     "output_type": "stream",
     "text": [
      "\t Testing zero subtraction\n",
      "\t Testing inconsistant lp solution\n",
      "\t Testing continuous LP solution\n",
      "\t Testing maximize continuous LP solution\n",
      "\t Testing unbounded continuous LP solution\n",
      "\t Testing Long Names\n",
      "\t Testing repeated Names\n",
      "\t Testing zero constraint\n",
      "\t Testing zero objective\n",
      "\t Testing LpVariable (not LpAffineExpression) objective\n",
      "\t Testing Long lines in LP\n",
      "\t Testing LpAffineExpression divide\n",
      "\t Testing MIP solution\n",
      "\t Testing MIP solution with floats in objective\n",
      "\t Testing MIP relaxation\n",
      "\t Testing feasibility problem (no objective)\n",
      "\t Testing an infeasible problem\n",
      "\t Testing an integer infeasible problem\n",
      "\t Testing column based modelling\n",
      "\t Testing dual variables and slacks reporting\n",
      "\t Testing fractional constraints\n",
      "\t Testing elastic constraints (no change)\n",
      "\t Testing elastic constraints (freebound)\n",
      "\t Testing elastic constraints (penalty unchanged)\n",
      "\t Testing elastic constraints (penalty unbounded)\n",
      "* Solver <class 'pulp.solvers.PULP_CBC_CMD'> passed.\n",
      "Solver <class 'pulp.solvers.CPLEX_DLL'> unavailable\n",
      "Solver <class 'pulp.solvers.CPLEX_CMD'> unavailable\n",
      "Solver <class 'pulp.solvers.CPLEX_PY'> unavailable\n",
      "Solver <class 'pulp.solvers.COIN_CMD'> unavailable\n",
      "Solver <class 'pulp.solvers.COINMP_DLL'> unavailable\n",
      "Solver <class 'pulp.solvers.GLPK_CMD'> unavailable\n",
      "Solver <class 'pulp.solvers.XPRESS'> unavailable\n",
      "Solver <class 'pulp.solvers.GUROBI'> unavailable\n",
      "Solver <class 'pulp.solvers.GUROBI_CMD'> unavailable\n",
      "Solver <class 'pulp.solvers.PYGLPK'> unavailable\n",
      "Solver <class 'pulp.solvers.YAPOSIB'> unavailable\n"
     ]
    }
   ],
   "source": [
    "opt.pulpTestAll()"
   ]
  },
  {
   "cell_type": "code",
   "execution_count": 25,
   "metadata": {
    "collapsed": false
   },
   "outputs": [],
   "source": [
    "status = prob.solve(opt.PULP_CBC_CMD(msg=0))"
   ]
  },
  {
   "cell_type": "code",
   "execution_count": 26,
   "metadata": {
    "collapsed": false
   },
   "outputs": [
    {
     "data": {
      "text/plain": [
       "'Optimal'"
      ]
     },
     "execution_count": 26,
     "metadata": {},
     "output_type": "execute_result"
    }
   ],
   "source": [
    "opt.LpStatus[status]"
   ]
  },
  {
   "cell_type": "code",
   "execution_count": 27,
   "metadata": {
    "collapsed": false
   },
   "outputs": [
    {
     "name": "stdout",
     "output_type": "stream",
     "text": [
      "x1 = 1.0\n",
      "x10 = 0.0\n",
      "x11 = 1.0\n",
      "x12 = 4.0\n",
      "x13 = 0.0\n",
      "x14 = 1.0\n",
      "x15 = 0.0\n",
      "x16 = 0.0\n",
      "x2 = 0.0\n",
      "x3 = 0.0\n",
      "x4 = 0.0\n",
      "x5 = 0.0\n",
      "x6 = 0.0\n",
      "x7 = 0.0\n",
      "x8 = 1.0\n",
      "x9 = 0.0\n"
     ]
    }
   ],
   "source": [
    "for v in prob.variables():\n",
    "    print (v.name, \"=\" , v.varValue)"
   ]
  },
  {
   "cell_type": "code",
   "execution_count": 28,
   "metadata": {
    "collapsed": false
   },
   "outputs": [
    {
     "data": {
      "text/plain": [
       "84541269.716"
      ]
     },
     "execution_count": 28,
     "metadata": {},
     "output_type": "execute_result"
    }
   ],
   "source": [
    "opt.value(prob.objective)"
   ]
  },
  {
   "cell_type": "code",
   "execution_count": null,
   "metadata": {
    "collapsed": true
   },
   "outputs": [],
   "source": []
  }
 ],
 "metadata": {
  "kernelspec": {
   "display_name": "Python 3",
   "language": "python",
   "name": "python3"
  },
  "language_info": {
   "codemirror_mode": {
    "name": "ipython",
    "version": 3
   },
   "file_extension": ".py",
   "mimetype": "text/x-python",
   "name": "python",
   "nbconvert_exporter": "python",
   "pygments_lexer": "ipython3",
   "version": "3.5.1"
  }
 },
 "nbformat": 4,
 "nbformat_minor": 0
}
